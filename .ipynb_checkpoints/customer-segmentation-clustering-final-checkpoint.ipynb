{
 "cells": [
  {
   "cell_type": "code",
   "execution_count": 1,
   "id": "fcf93908",
   "metadata": {
    "_kg_hide-input": true,
    "_kg_hide-output": true,
    "papermill": {
     "duration": 0.059258,
     "end_time": "2021-10-08T04:14:39.074653",
     "exception": false,
     "start_time": "2021-10-08T04:14:39.015395",
     "status": "completed"
    },
    "tags": []
   },
   "outputs": [],
   "source": [
    "# This Python 3 environment comes with many helpful analytics libraries installed\n",
    "# It is defined by the kaggle/python Docker image: https://github.com/kaggle/docker-python\n",
    "# For example, here's several helpful packages to load\n",
    "\n",
    "import numpy as np # linear algebra\n",
    "import pandas as pd # data processing, CSV file I/O (e.g. pd.read_csv)\n",
    "\n",
    "# Input data files are available in the read-only \"../input/\" directory\n",
    "# For example, running this (by clicking run or pressing Shift+Enter) will list all files under the input directory\n",
    "\n",
    "import os\n",
    "for dirname, _, filenames in os.walk('/kaggle/input'):\n",
    "    for filename in filenames:\n",
    "        print(os.path.join(dirname, filename))\n",
    "\n"
   ]
  },
  {
   "cell_type": "code",
   "execution_count": 2,
   "id": "351f137d",
   "metadata": {
    "papermill": {
     "duration": 1.53841,
     "end_time": "2021-10-08T04:14:40.759736",
     "exception": false,
     "start_time": "2021-10-08T04:14:39.221326",
     "status": "completed"
    },
    "tags": []
   },
   "outputs": [],
   "source": [
    "import numpy as np\n",
    "import pandas as pd\n",
    "import datetime\n",
    "import matplotlib\n",
    "import matplotlib.pyplot as plt\n",
    "from matplotlib import colors\n",
    "import seaborn as sns\n",
    "from sklearn.preprocessing import LabelEncoder\n",
    "from sklearn.preprocessing import StandardScaler\n",
    "from sklearn.decomposition import PCA\n",
    "from yellowbrick.cluster import KElbowVisualizer\n",
    "from sklearn.cluster import KMeans\n",
    "import matplotlib.pyplot as plt, numpy as np\n",
    "from mpl_toolkits.mplot3d import Axes3D\n",
    "from sklearn.cluster import AgglomerativeClustering\n",
    "from matplotlib.colors import ListedColormap\n",
    "from sklearn import metrics\n",
    "import warnings\n",
    "import sys\n",
    "if not sys.warnoptions:\n",
    "    warnings.simplefilter(\"ignore\")\n",
    "np.random.seed(42)"
   ]
  },
  {
   "cell_type": "code",
   "execution_count": 3,
   "id": "7a6e8b5a",
   "metadata": {
    "papermill": {
     "duration": 0.087752,
     "end_time": "2021-10-08T04:14:40.933340",
     "exception": false,
     "start_time": "2021-10-08T04:14:40.845588",
     "status": "completed"
    },
    "scrolled": true,
    "tags": []
   },
   "outputs": [
    {
     "ename": "FileNotFoundError",
     "evalue": "[Errno 2] No such file or directory: 'marketing_campaign.csv'",
     "output_type": "error",
     "traceback": [
      "\u001b[1;31m---------------------------------------------------------------------------\u001b[0m",
      "\u001b[1;31mFileNotFoundError\u001b[0m                         Traceback (most recent call last)",
      "Cell \u001b[1;32mIn[3], line 1\u001b[0m\n\u001b[1;32m----> 1\u001b[0m data \u001b[38;5;241m=\u001b[39m pd\u001b[38;5;241m.\u001b[39mread_csv(\u001b[38;5;124m\"\u001b[39m\u001b[38;5;124mmarketing_campaign.csv\u001b[39m\u001b[38;5;124m\"\u001b[39m, sep\u001b[38;5;241m=\u001b[39m\u001b[38;5;124m\"\u001b[39m\u001b[38;5;130;01m\\t\u001b[39;00m\u001b[38;5;124m\"\u001b[39m)\n\u001b[0;32m      2\u001b[0m \u001b[38;5;28mprint\u001b[39m(\u001b[38;5;124m\"\u001b[39m\u001b[38;5;124mNumber of datapoints:\u001b[39m\u001b[38;5;124m\"\u001b[39m, \u001b[38;5;28mlen\u001b[39m(data))\n\u001b[0;32m      3\u001b[0m data\u001b[38;5;241m.\u001b[39mhead()\n",
      "File \u001b[1;32m~\\anaconda3\\Lib\\site-packages\\pandas\\io\\parsers\\readers.py:1026\u001b[0m, in \u001b[0;36mread_csv\u001b[1;34m(filepath_or_buffer, sep, delimiter, header, names, index_col, usecols, dtype, engine, converters, true_values, false_values, skipinitialspace, skiprows, skipfooter, nrows, na_values, keep_default_na, na_filter, verbose, skip_blank_lines, parse_dates, infer_datetime_format, keep_date_col, date_parser, date_format, dayfirst, cache_dates, iterator, chunksize, compression, thousands, decimal, lineterminator, quotechar, quoting, doublequote, escapechar, comment, encoding, encoding_errors, dialect, on_bad_lines, delim_whitespace, low_memory, memory_map, float_precision, storage_options, dtype_backend)\u001b[0m\n\u001b[0;32m   1013\u001b[0m kwds_defaults \u001b[38;5;241m=\u001b[39m _refine_defaults_read(\n\u001b[0;32m   1014\u001b[0m     dialect,\n\u001b[0;32m   1015\u001b[0m     delimiter,\n\u001b[1;32m   (...)\u001b[0m\n\u001b[0;32m   1022\u001b[0m     dtype_backend\u001b[38;5;241m=\u001b[39mdtype_backend,\n\u001b[0;32m   1023\u001b[0m )\n\u001b[0;32m   1024\u001b[0m kwds\u001b[38;5;241m.\u001b[39mupdate(kwds_defaults)\n\u001b[1;32m-> 1026\u001b[0m \u001b[38;5;28;01mreturn\u001b[39;00m _read(filepath_or_buffer, kwds)\n",
      "File \u001b[1;32m~\\anaconda3\\Lib\\site-packages\\pandas\\io\\parsers\\readers.py:620\u001b[0m, in \u001b[0;36m_read\u001b[1;34m(filepath_or_buffer, kwds)\u001b[0m\n\u001b[0;32m    617\u001b[0m _validate_names(kwds\u001b[38;5;241m.\u001b[39mget(\u001b[38;5;124m\"\u001b[39m\u001b[38;5;124mnames\u001b[39m\u001b[38;5;124m\"\u001b[39m, \u001b[38;5;28;01mNone\u001b[39;00m))\n\u001b[0;32m    619\u001b[0m \u001b[38;5;66;03m# Create the parser.\u001b[39;00m\n\u001b[1;32m--> 620\u001b[0m parser \u001b[38;5;241m=\u001b[39m TextFileReader(filepath_or_buffer, \u001b[38;5;241m*\u001b[39m\u001b[38;5;241m*\u001b[39mkwds)\n\u001b[0;32m    622\u001b[0m \u001b[38;5;28;01mif\u001b[39;00m chunksize \u001b[38;5;129;01mor\u001b[39;00m iterator:\n\u001b[0;32m    623\u001b[0m     \u001b[38;5;28;01mreturn\u001b[39;00m parser\n",
      "File \u001b[1;32m~\\anaconda3\\Lib\\site-packages\\pandas\\io\\parsers\\readers.py:1620\u001b[0m, in \u001b[0;36mTextFileReader.__init__\u001b[1;34m(self, f, engine, **kwds)\u001b[0m\n\u001b[0;32m   1617\u001b[0m     \u001b[38;5;28mself\u001b[39m\u001b[38;5;241m.\u001b[39moptions[\u001b[38;5;124m\"\u001b[39m\u001b[38;5;124mhas_index_names\u001b[39m\u001b[38;5;124m\"\u001b[39m] \u001b[38;5;241m=\u001b[39m kwds[\u001b[38;5;124m\"\u001b[39m\u001b[38;5;124mhas_index_names\u001b[39m\u001b[38;5;124m\"\u001b[39m]\n\u001b[0;32m   1619\u001b[0m \u001b[38;5;28mself\u001b[39m\u001b[38;5;241m.\u001b[39mhandles: IOHandles \u001b[38;5;241m|\u001b[39m \u001b[38;5;28;01mNone\u001b[39;00m \u001b[38;5;241m=\u001b[39m \u001b[38;5;28;01mNone\u001b[39;00m\n\u001b[1;32m-> 1620\u001b[0m \u001b[38;5;28mself\u001b[39m\u001b[38;5;241m.\u001b[39m_engine \u001b[38;5;241m=\u001b[39m \u001b[38;5;28mself\u001b[39m\u001b[38;5;241m.\u001b[39m_make_engine(f, \u001b[38;5;28mself\u001b[39m\u001b[38;5;241m.\u001b[39mengine)\n",
      "File \u001b[1;32m~\\anaconda3\\Lib\\site-packages\\pandas\\io\\parsers\\readers.py:1880\u001b[0m, in \u001b[0;36mTextFileReader._make_engine\u001b[1;34m(self, f, engine)\u001b[0m\n\u001b[0;32m   1878\u001b[0m     \u001b[38;5;28;01mif\u001b[39;00m \u001b[38;5;124m\"\u001b[39m\u001b[38;5;124mb\u001b[39m\u001b[38;5;124m\"\u001b[39m \u001b[38;5;129;01mnot\u001b[39;00m \u001b[38;5;129;01min\u001b[39;00m mode:\n\u001b[0;32m   1879\u001b[0m         mode \u001b[38;5;241m+\u001b[39m\u001b[38;5;241m=\u001b[39m \u001b[38;5;124m\"\u001b[39m\u001b[38;5;124mb\u001b[39m\u001b[38;5;124m\"\u001b[39m\n\u001b[1;32m-> 1880\u001b[0m \u001b[38;5;28mself\u001b[39m\u001b[38;5;241m.\u001b[39mhandles \u001b[38;5;241m=\u001b[39m get_handle(\n\u001b[0;32m   1881\u001b[0m     f,\n\u001b[0;32m   1882\u001b[0m     mode,\n\u001b[0;32m   1883\u001b[0m     encoding\u001b[38;5;241m=\u001b[39m\u001b[38;5;28mself\u001b[39m\u001b[38;5;241m.\u001b[39moptions\u001b[38;5;241m.\u001b[39mget(\u001b[38;5;124m\"\u001b[39m\u001b[38;5;124mencoding\u001b[39m\u001b[38;5;124m\"\u001b[39m, \u001b[38;5;28;01mNone\u001b[39;00m),\n\u001b[0;32m   1884\u001b[0m     compression\u001b[38;5;241m=\u001b[39m\u001b[38;5;28mself\u001b[39m\u001b[38;5;241m.\u001b[39moptions\u001b[38;5;241m.\u001b[39mget(\u001b[38;5;124m\"\u001b[39m\u001b[38;5;124mcompression\u001b[39m\u001b[38;5;124m\"\u001b[39m, \u001b[38;5;28;01mNone\u001b[39;00m),\n\u001b[0;32m   1885\u001b[0m     memory_map\u001b[38;5;241m=\u001b[39m\u001b[38;5;28mself\u001b[39m\u001b[38;5;241m.\u001b[39moptions\u001b[38;5;241m.\u001b[39mget(\u001b[38;5;124m\"\u001b[39m\u001b[38;5;124mmemory_map\u001b[39m\u001b[38;5;124m\"\u001b[39m, \u001b[38;5;28;01mFalse\u001b[39;00m),\n\u001b[0;32m   1886\u001b[0m     is_text\u001b[38;5;241m=\u001b[39mis_text,\n\u001b[0;32m   1887\u001b[0m     errors\u001b[38;5;241m=\u001b[39m\u001b[38;5;28mself\u001b[39m\u001b[38;5;241m.\u001b[39moptions\u001b[38;5;241m.\u001b[39mget(\u001b[38;5;124m\"\u001b[39m\u001b[38;5;124mencoding_errors\u001b[39m\u001b[38;5;124m\"\u001b[39m, \u001b[38;5;124m\"\u001b[39m\u001b[38;5;124mstrict\u001b[39m\u001b[38;5;124m\"\u001b[39m),\n\u001b[0;32m   1888\u001b[0m     storage_options\u001b[38;5;241m=\u001b[39m\u001b[38;5;28mself\u001b[39m\u001b[38;5;241m.\u001b[39moptions\u001b[38;5;241m.\u001b[39mget(\u001b[38;5;124m\"\u001b[39m\u001b[38;5;124mstorage_options\u001b[39m\u001b[38;5;124m\"\u001b[39m, \u001b[38;5;28;01mNone\u001b[39;00m),\n\u001b[0;32m   1889\u001b[0m )\n\u001b[0;32m   1890\u001b[0m \u001b[38;5;28;01massert\u001b[39;00m \u001b[38;5;28mself\u001b[39m\u001b[38;5;241m.\u001b[39mhandles \u001b[38;5;129;01mis\u001b[39;00m \u001b[38;5;129;01mnot\u001b[39;00m \u001b[38;5;28;01mNone\u001b[39;00m\n\u001b[0;32m   1891\u001b[0m f \u001b[38;5;241m=\u001b[39m \u001b[38;5;28mself\u001b[39m\u001b[38;5;241m.\u001b[39mhandles\u001b[38;5;241m.\u001b[39mhandle\n",
      "File \u001b[1;32m~\\anaconda3\\Lib\\site-packages\\pandas\\io\\common.py:873\u001b[0m, in \u001b[0;36mget_handle\u001b[1;34m(path_or_buf, mode, encoding, compression, memory_map, is_text, errors, storage_options)\u001b[0m\n\u001b[0;32m    868\u001b[0m \u001b[38;5;28;01melif\u001b[39;00m \u001b[38;5;28misinstance\u001b[39m(handle, \u001b[38;5;28mstr\u001b[39m):\n\u001b[0;32m    869\u001b[0m     \u001b[38;5;66;03m# Check whether the filename is to be opened in binary mode.\u001b[39;00m\n\u001b[0;32m    870\u001b[0m     \u001b[38;5;66;03m# Binary mode does not support 'encoding' and 'newline'.\u001b[39;00m\n\u001b[0;32m    871\u001b[0m     \u001b[38;5;28;01mif\u001b[39;00m ioargs\u001b[38;5;241m.\u001b[39mencoding \u001b[38;5;129;01mand\u001b[39;00m \u001b[38;5;124m\"\u001b[39m\u001b[38;5;124mb\u001b[39m\u001b[38;5;124m\"\u001b[39m \u001b[38;5;129;01mnot\u001b[39;00m \u001b[38;5;129;01min\u001b[39;00m ioargs\u001b[38;5;241m.\u001b[39mmode:\n\u001b[0;32m    872\u001b[0m         \u001b[38;5;66;03m# Encoding\u001b[39;00m\n\u001b[1;32m--> 873\u001b[0m         handle \u001b[38;5;241m=\u001b[39m \u001b[38;5;28mopen\u001b[39m(\n\u001b[0;32m    874\u001b[0m             handle,\n\u001b[0;32m    875\u001b[0m             ioargs\u001b[38;5;241m.\u001b[39mmode,\n\u001b[0;32m    876\u001b[0m             encoding\u001b[38;5;241m=\u001b[39mioargs\u001b[38;5;241m.\u001b[39mencoding,\n\u001b[0;32m    877\u001b[0m             errors\u001b[38;5;241m=\u001b[39merrors,\n\u001b[0;32m    878\u001b[0m             newline\u001b[38;5;241m=\u001b[39m\u001b[38;5;124m\"\u001b[39m\u001b[38;5;124m\"\u001b[39m,\n\u001b[0;32m    879\u001b[0m         )\n\u001b[0;32m    880\u001b[0m     \u001b[38;5;28;01melse\u001b[39;00m:\n\u001b[0;32m    881\u001b[0m         \u001b[38;5;66;03m# Binary mode\u001b[39;00m\n\u001b[0;32m    882\u001b[0m         handle \u001b[38;5;241m=\u001b[39m \u001b[38;5;28mopen\u001b[39m(handle, ioargs\u001b[38;5;241m.\u001b[39mmode)\n",
      "\u001b[1;31mFileNotFoundError\u001b[0m: [Errno 2] No such file or directory: 'marketing_campaign.csv'"
     ]
    }
   ],
   "source": [
    "data = pd.read_csv(\"marketing_campaign.csv\", sep=\"\\t\")\n",
    "print(\"Number of datapoints:\", len(data))\n",
    "data.head()"
   ]
  },
  {
   "cell_type": "code",
   "execution_count": null,
   "id": "ce8667e8",
   "metadata": {
    "papermill": {
     "duration": 0.058629,
     "end_time": "2021-10-08T04:14:41.076744",
     "exception": false,
     "start_time": "2021-10-08T04:14:41.018115",
     "status": "completed"
    },
    "tags": []
   },
   "outputs": [],
   "source": [
    "data.info()"
   ]
  },
  {
   "cell_type": "markdown",
   "id": "7d049aab",
   "metadata": {
    "papermill": {
     "duration": 0.028603,
     "end_time": "2021-10-08T04:14:41.136192",
     "exception": false,
     "start_time": "2021-10-08T04:14:41.107589",
     "status": "completed"
    },
    "tags": []
   },
   "source": [
    "**From the above output, we can conclude and note that:**\n",
    "\n",
    "* There are missing values in income\n",
    "* Dt_Customer that indicates the date a customer joined the database is not parsed as DateTime\n",
    "* There are some categorical features in our data frame; as there are some features in dtype: object). So we will need to encode them into numeric forms later. \n",
    "\n",
    "First of all, for the missing values, I am simply going to drop the rows that have missing income values. "
   ]
  },
  {
   "cell_type": "code",
   "execution_count": null,
   "id": "b6003c58",
   "metadata": {
    "papermill": {
     "duration": 0.042312,
     "end_time": "2021-10-08T04:14:41.207425",
     "exception": false,
     "start_time": "2021-10-08T04:14:41.165113",
     "status": "completed"
    },
    "tags": []
   },
   "outputs": [],
   "source": [
    "data = data.dropna()\n",
    "print(\"The total number of data-points after removing the rows with missing values are:\", len(data))"
   ]
  },
  {
   "cell_type": "markdown",
   "id": "1c9849ed",
   "metadata": {
    "papermill": {
     "duration": 0.028861,
     "end_time": "2021-10-08T04:14:41.266284",
     "exception": false,
     "start_time": "2021-10-08T04:14:41.237423",
     "status": "completed"
    },
    "tags": []
   },
   "source": [
    "In the next step, I am going to create a feature out of **\"Dt_Customer\"** that indicates the number of days a customer is registered in the firm's database. However, in order to keep it simple, I am taking this value relative to the most recent customer in the record. \n",
    "\n",
    "Thus to get the values I must check the newest and oldest recorded dates. "
   ]
  },
  {
   "cell_type": "code",
   "execution_count": null,
   "id": "29e0a06d",
   "metadata": {
    "papermill": {
     "duration": 0.046416,
     "end_time": "2021-10-08T04:14:41.341737",
     "exception": false,
     "start_time": "2021-10-08T04:14:41.295321",
     "status": "completed"
    },
    "tags": []
   },
   "outputs": [],
   "source": [
    "data[\"Dt_Customer\"] = pd.to_datetime(data[\"Dt_Customer\"], dayfirst=True)\n",
    "\n",
    "dates = []\n",
    "for i in data[\"Dt_Customer\"]: \n",
    "    i = i.date()\n",
    "    dates.append(i)  \n",
    "#Dates of the newest and oldest recorded customer\n",
    "print(\"The newest customer's enrolment date in therecords:\",max(dates))\n",
    "print(\"The oldest customer's enrolment date in the records:\",min(dates))\n"
   ]
  },
  {
   "cell_type": "markdown",
   "id": "a16a073f",
   "metadata": {
    "papermill": {
     "duration": 0.029401,
     "end_time": "2021-10-08T04:14:41.400477",
     "exception": false,
     "start_time": "2021-10-08T04:14:41.371076",
     "status": "completed"
    },
    "tags": []
   },
   "source": [
    "Creating a feature **(\"Customer_For\")** of the number of days the customers started to shop in the store relative to the last recorded date"
   ]
  },
  {
   "cell_type": "code",
   "execution_count": null,
   "id": "23e9342f",
   "metadata": {
    "papermill": {
     "duration": 0.051941,
     "end_time": "2021-10-08T04:14:41.482563",
     "exception": false,
     "start_time": "2021-10-08T04:14:41.430622",
     "status": "completed"
    },
    "tags": []
   },
   "outputs": [],
   "source": [
    "#Created a feature \"Customer_For\"\n",
    "days = []\n",
    "d1 = max(dates) #taking it to be the newest customer\n",
    "for i in dates:\n",
    "    delta = d1 - i\n",
    "    days.append(delta)\n",
    "data[\"Customer_For\"] = days\n",
    "data[\"Customer_For\"] = pd.to_numeric(data[\"Customer_For\"], errors=\"coerce\")"
   ]
  },
  {
   "cell_type": "markdown",
   "id": "12d9ce12",
   "metadata": {
    "papermill": {
     "duration": 0.040084,
     "end_time": "2021-10-08T04:14:41.565744",
     "exception": false,
     "start_time": "2021-10-08T04:14:41.525660",
     "status": "completed"
    },
    "tags": []
   },
   "source": [
    "Now we will be exploring the unique values in the categorical features to get a clear idea of the data.  "
   ]
  },
  {
   "cell_type": "code",
   "execution_count": null,
   "id": "a4b44962",
   "metadata": {
    "papermill": {
     "duration": 0.043279,
     "end_time": "2021-10-08T04:14:41.640142",
     "exception": false,
     "start_time": "2021-10-08T04:14:41.596863",
     "status": "completed"
    },
    "tags": []
   },
   "outputs": [],
   "source": [
    "print(\"Total categories in the feature Marital_Status:\\n\", data[\"Marital_Status\"].value_counts(), \"\\n\")\n",
    "print(\"Total categories in the feature Education:\\n\", data[\"Education\"].value_counts())"
   ]
  },
  {
   "cell_type": "markdown",
   "id": "2ec8fa09",
   "metadata": {
    "papermill": {
     "duration": 0.029496,
     "end_time": "2021-10-08T04:14:41.700019",
     "exception": false,
     "start_time": "2021-10-08T04:14:41.670523",
     "status": "completed"
    },
    "tags": []
   },
   "source": [
    "**In the next bit, I will be performing the following steps to engineer some new features:**\n",
    "\n",
    "* Extract the **\"Age\"** of a customer by the **\"Year_Birth\"** indicating the birth year of the respective person.\n",
    "* Create another feature **\"Spent\"** indicating the total amount spent by the customer in various categories over the span of two years.\n",
    "* Create another feature **\"Living_With\"** out of **\"Marital_Status\"** to extract the living situation of couples.\n",
    "* Create a feature **\"Children\"** to indicate total children in a household that is, kids and teenagers.\n",
    "* To get further clarity of household, Creating feature indicating **\"Family_Size\"**\n",
    "* Create a feature **\"Is_Parent\"** to indicate parenthood status\n",
    "* Lastly, I will create three categories in the **\"Education\"** by simplifying its value counts.\n",
    "* Dropping some of the redundant features"
   ]
  },
  {
   "cell_type": "code",
   "execution_count": null,
   "id": "39c3ecc3",
   "metadata": {
    "papermill": {
     "duration": 0.055238,
     "end_time": "2021-10-08T04:14:41.784923",
     "exception": false,
     "start_time": "2021-10-08T04:14:41.729685",
     "status": "completed"
    },
    "tags": []
   },
   "outputs": [],
   "source": [
    "#Feature Engineering\n",
    "#Age of customer today \n",
    "data[\"Age\"] = 2021-data[\"Year_Birth\"]\n",
    "\n",
    "#Total spendings on various items\n",
    "data[\"Spent\"] = data[\"MntWines\"]+ data[\"MntFruits\"]+ data[\"MntMeatProducts\"]+ data[\"MntFishProducts\"]+ data[\"MntSweetProducts\"]+ data[\"MntGoldProds\"]\n",
    "\n",
    "#Deriving living situation by marital status\"Alone\"\n",
    "data[\"Living_With\"]=data[\"Marital_Status\"].replace({\"Married\":\"Partner\", \"Together\":\"Partner\", \"Absurd\":\"Alone\", \"Widow\":\"Alone\", \"YOLO\":\"Alone\", \"Divorced\":\"Alone\", \"Single\":\"Alone\",})\n",
    "\n",
    "#Feature indicating total children living in the household\n",
    "data[\"Children\"]=data[\"Kidhome\"]+data[\"Teenhome\"]\n",
    "\n",
    "#Feature for total members in the householde\n",
    "data[\"Family_Size\"] = data[\"Living_With\"].replace({\"Alone\": 1, \"Partner\":2})+ data[\"Children\"]\n",
    "\n",
    "#Feature pertaining parenthood\n",
    "data[\"Is_Parent\"] = np.where(data.Children> 0, 1, 0)\n",
    "\n",
    "#Segmenting education levels in three groups\n",
    "data[\"Education\"]=data[\"Education\"].replace({\"Basic\":\"Undergraduate\",\"2n Cycle\":\"Undergraduate\", \"Graduation\":\"Graduate\", \"Master\":\"Postgraduate\", \"PhD\":\"Postgraduate\"})\n",
    "\n",
    "#For clarity\n",
    "data=data.rename(columns={\"MntWines\": \"Wines\",\"MntFruits\":\"Fruits\",\"MntMeatProducts\":\"Meat\",\"MntFishProducts\":\"Fish\",\"MntSweetProducts\":\"Sweets\",\"MntGoldProds\":\"Gold\"})\n",
    "\n",
    "#Dropping some of the redundant features\n",
    "to_drop = [\"Marital_Status\", \"Dt_Customer\", \"Z_CostContact\", \"Z_Revenue\", \"Year_Birth\", \"ID\"]\n",
    "data = data.drop(to_drop, axis=1)"
   ]
  },
  {
   "cell_type": "code",
   "execution_count": null,
   "id": "c96e9151-39f8-4fc3-9b55-b5f2d7bde30b",
   "metadata": {},
   "outputs": [],
   "source": [
    "data.info()"
   ]
  },
  {
   "cell_type": "markdown",
   "id": "0a591bf5",
   "metadata": {
    "papermill": {
     "duration": 0.029572,
     "end_time": "2021-10-08T04:14:41.843846",
     "exception": false,
     "start_time": "2021-10-08T04:14:41.814274",
     "status": "completed"
    },
    "tags": []
   },
   "source": [
    "Now that we have some new features let's have a look at the data's stats. "
   ]
  },
  {
   "cell_type": "markdown",
   "id": "b3b39dc8",
   "metadata": {
    "papermill": {
     "duration": 0.030087,
     "end_time": "2021-10-08T04:14:42.043835",
     "exception": false,
     "start_time": "2021-10-08T04:14:42.013748",
     "status": "completed"
    },
    "tags": []
   },
   "source": [
    "The above stats show some discrepancies in mean Income and Age and max Income and age.\n",
    "\n",
    "Do note that  max-age is 128 years, As I calculated the age that would be today (i.e. 2021) and the data is old.\n",
    "\n",
    "I must take a look at the broader view of the data. \n",
    "I will plot some of the selected features."
   ]
  },
  {
   "cell_type": "code",
   "execution_count": null,
   "id": "f4f98d4d",
   "metadata": {
    "papermill": {
     "duration": 8.979335,
     "end_time": "2021-10-08T04:14:51.053279",
     "exception": false,
     "start_time": "2021-10-08T04:14:42.073944",
     "status": "completed"
    },
    "tags": []
   },
   "outputs": [],
   "source": [
    "#To plot some selected features \n",
    "#Setting up colors prefrences\n",
    "sns.set(rc={\"axes.facecolor\":\"#FFF9ED\",\"figure.facecolor\":\"#FFF9ED\"})\n",
    "pallet = [\"#682F2F\", \"#9E726F\", \"#D6B2B1\", \"#B9C0C9\", \"#9F8A78\", \"#F3AB60\"]\n",
    "cmap = colors.ListedColormap([\"#682F2F\", \"#9E726F\", \"#D6B2B1\", \"#B9C0C9\", \"#9F8A78\", \"#F3AB60\"])\n",
    "#Plotting following features\n",
    "To_Plot = [ \"Income\", \"Recency\", \"Customer_For\", \"Age\", \"Spent\", \"Is_Parent\"]\n",
    "print(\"Reletive Plot Of Some Selected Features: A Data Subset\")\n",
    "plt.figure()\n",
    "sns.pairplot(data[To_Plot], hue= \"Is_Parent\",palette= ([\"#682F2F\",\"#F3AB60\"]))\n",
    "#Taking hue \n",
    "plt.show()"
   ]
  },
  {
   "cell_type": "markdown",
   "id": "55979cdb",
   "metadata": {
    "papermill": {
     "duration": 0.046896,
     "end_time": "2021-10-08T04:14:51.147774",
     "exception": false,
     "start_time": "2021-10-08T04:14:51.100878",
     "status": "completed"
    },
    "tags": []
   },
   "source": [
    "Clearly, there are a few outliers in the Income and Age features. \n",
    "I will be deleting the outliers in the data. "
   ]
  },
  {
   "cell_type": "code",
   "execution_count": null,
   "id": "57be2ade",
   "metadata": {
    "papermill": {
     "duration": 0.05833,
     "end_time": "2021-10-08T04:14:51.252647",
     "exception": false,
     "start_time": "2021-10-08T04:14:51.194317",
     "status": "completed"
    },
    "tags": []
   },
   "outputs": [],
   "source": [
    "#Dropping the outliers by setting a cap on Age and income. \n",
    "data = data[(data[\"Age\"]<90)]\n",
    "data = data[(data[\"Income\"]<600000)]\n",
    "print(\"The total number of data-points after removing the outliers are:\", len(data))"
   ]
  },
  {
   "cell_type": "markdown",
   "id": "b2421777",
   "metadata": {
    "papermill": {
     "duration": 0.046761,
     "end_time": "2021-10-08T04:14:51.348041",
     "exception": false,
     "start_time": "2021-10-08T04:14:51.301280",
     "status": "completed"
    },
    "tags": []
   },
   "source": [
    "Next, let us look at the correlation amongst the features. \n",
    "(Excluding the categorical attributes at this point)"
   ]
  },
  {
   "cell_type": "code",
   "execution_count": null,
   "id": "9003f989",
   "metadata": {
    "papermill": {
     "duration": 4.47676,
     "end_time": "2021-10-08T04:14:55.873081",
     "exception": false,
     "start_time": "2021-10-08T04:14:51.396321",
     "status": "completed"
    },
    "scrolled": true,
    "tags": []
   },
   "outputs": [],
   "source": [
    "#correlation matrix\n",
    "# Selecting only numeric columns\n",
    "import seaborn as sns\n",
    "import matplotlib.pyplot as plt\n",
    "numeric_data = data.select_dtypes(include=['number'])\n",
    "# List of important features\n",
    "important_features = ['Income', 'Spent', 'Family_Size', 'Recency']\n",
    "\n",
    "# Select only the important features from the numeric data\n",
    "filtered_corr = numeric_data[important_features].corr()\n",
    "\n",
    "# Plotting the filtered correlation heatmap\n",
    "plt.figure(figsize=(8, 6))\n",
    "sns.heatmap(filtered_corr, annot=True, cmap='coolwarm', center=0, linewidths=0.5)\n",
    "plt.title('Correlation Heatmap of Selected Features')\n",
    "plt.show()\n",
    "\n"
   ]
  },
  {
   "cell_type": "code",
   "execution_count": null,
   "id": "8c2b2759",
   "metadata": {
    "papermill": {
     "duration": 0.085186,
     "end_time": "2021-10-08T04:14:56.148485",
     "exception": false,
     "start_time": "2021-10-08T04:14:56.063299",
     "status": "completed"
    },
    "tags": []
   },
   "outputs": [],
   "source": [
    "#Get list of categorical variables\n",
    "s = (data.dtypes == 'object')\n",
    "object_cols = list(s[s].index)\n",
    "\n",
    "print(\"Categorical variables in the dataset:\", object_cols)"
   ]
  },
  {
   "cell_type": "code",
   "execution_count": null,
   "id": "115aaeb4",
   "metadata": {
    "papermill": {
     "duration": 0.078164,
     "end_time": "2021-10-08T04:14:56.296208",
     "exception": false,
     "start_time": "2021-10-08T04:14:56.218044",
     "status": "completed"
    },
    "tags": []
   },
   "outputs": [],
   "source": [
    "#Label Encoding the object dtypes.\n",
    "LE=LabelEncoder()\n",
    "for i in object_cols:\n",
    "    data[i]=data[[i]].apply(LE.fit_transform)\n",
    "    \n",
    "print(\"All features are now numerical\")"
   ]
  },
  {
   "cell_type": "code",
   "execution_count": null,
   "id": "3d2a7deb",
   "metadata": {
    "papermill": {
     "duration": 0.075769,
     "end_time": "2021-10-08T04:14:56.430085",
     "exception": false,
     "start_time": "2021-10-08T04:14:56.354316",
     "status": "completed"
    },
    "tags": []
   },
   "outputs": [],
   "source": [
    "ds = data.copy()\n",
    "# creating a subset of dataframe by dropping the features on deals accepted and promotions\n",
    "cols_del = ['AcceptedCmp3', 'AcceptedCmp4', 'AcceptedCmp5', 'AcceptedCmp1','AcceptedCmp2', 'Complain', 'Response']\n",
    "ds = ds.drop(cols_del, axis=1)\n",
    "#Scaling\n",
    "scaler = StandardScaler()\n",
    "scaler.fit(ds)\n",
    "scaled_ds = pd.DataFrame(scaler.transform(ds),columns= ds.columns )\n",
    "print(\"All features are now scaled\")"
   ]
  },
  {
   "cell_type": "code",
   "execution_count": null,
   "id": "2f951bfa",
   "metadata": {
    "papermill": {
     "duration": 0.087305,
     "end_time": "2021-10-08T04:14:56.575069",
     "exception": false,
     "start_time": "2021-10-08T04:14:56.487764",
     "status": "completed"
    },
    "tags": []
   },
   "outputs": [],
   "source": [
    "#Scaled data to be used for reducing the dimensionality\n",
    "print(\"Dataframe to be used for further modelling:\")\n",
    "scaled_ds.head()"
   ]
  },
  {
   "cell_type": "code",
   "execution_count": null,
   "id": "1103858f-a85e-43bc-bcf2-08cda5617e70",
   "metadata": {},
   "outputs": [],
   "source": [
    "scaled_ds.isnull().sum()"
   ]
  },
  {
   "cell_type": "code",
   "execution_count": null,
   "id": "cfe6d5de-6116-476e-b7fb-562086997c8a",
   "metadata": {
    "scrolled": true
   },
   "outputs": [],
   "source": [
    "scaled_ds.info()"
   ]
  },
  {
   "cell_type": "code",
   "execution_count": null,
   "id": "d67866a7-98a1-4d45-971e-fe789549b312",
   "metadata": {},
   "outputs": [],
   "source": [
    "from sklearn.impute import SimpleImputer\n",
    "import pandas as pd\n",
    "\n",
    "# Impute Income with mean\n",
    "imputer = SimpleImputer(strategy='mean')\n",
    "scaled_ds = pd.DataFrame(imputer.fit_transform(scaled_ds), columns=scaled_ds.columns)\n"
   ]
  },
  {
   "cell_type": "code",
   "execution_count": null,
   "id": "1d9a0b28",
   "metadata": {
    "papermill": {
     "duration": 0.118668,
     "end_time": "2021-10-08T04:14:56.870748",
     "exception": false,
     "start_time": "2021-10-08T04:14:56.752080",
     "status": "completed"
    },
    "tags": []
   },
   "outputs": [],
   "source": [
    "#Initiating PCA to reduce dimentions\n",
    "pca = PCA(n_components=3)\n",
    "pca.fit(scaled_ds)\n",
    "PCA_ds = pd.DataFrame(pca.transform(scaled_ds), columns=([\"col1\",\"col2\", \"col3\"]))\n",
    "PCA_ds.describe().T"
   ]
  },
  {
   "cell_type": "code",
   "execution_count": null,
   "id": "c9e49197",
   "metadata": {
    "papermill": {
     "duration": 0.367462,
     "end_time": "2021-10-08T04:14:57.337354",
     "exception": false,
     "start_time": "2021-10-08T04:14:56.969892",
     "status": "completed"
    },
    "tags": []
   },
   "outputs": [],
   "source": [
    "#A 3D Projection Of Data In The Reduced Dimension\n",
    "x =PCA_ds[\"col1\"]\n",
    "y =PCA_ds[\"col2\"]\n",
    "z =PCA_ds[\"col3\"]\n",
    "#To plot\n",
    "fig = plt.figure(figsize=(10,8))\n",
    "ax = fig.add_subplot(111, projection=\"3d\")\n",
    "ax.scatter(x,y,z, c=\"maroon\", marker=\"o\" )\n",
    "ax.set_title(\"A 3D Projection Of Data In The Reduced Dimension\")\n",
    "plt.show()"
   ]
  },
  {
   "cell_type": "code",
   "execution_count": null,
   "id": "70dd6138",
   "metadata": {
    "papermill": {
     "duration": 1.74229,
     "end_time": "2021-10-08T04:14:59.264051",
     "exception": false,
     "start_time": "2021-10-08T04:14:57.521761",
     "status": "completed"
    },
    "tags": []
   },
   "outputs": [],
   "source": [
    "# Quick examination of elbow method to find numbers of clusters to make.\n",
    "print('Elbow Method to determine the number of clusters to be formed:')\n",
    "Elbow_M = KElbowVisualizer(KMeans(), k=10)\n",
    "Elbow_M.fit(PCA_ds)\n",
    "Elbow_M.show()"
   ]
  },
  {
   "cell_type": "code",
   "execution_count": null,
   "id": "1414ddbf-a762-4211-a5eb-a381a7b5ce35",
   "metadata": {},
   "outputs": [],
   "source": [
    "from sklearn.cluster import KMeans\n",
    "\n",
    "# Fit the KMeans model\n",
    "kmeans = KMeans(n_clusters=4, random_state=42)\n",
    "yhat_kmeans = kmeans.fit_predict(PCA_ds)\n",
    "\n",
    "# Add clusters to the dataset\n",
    "PCA_ds[\"Clusters\"] = yhat_kmeans\n",
    "data[\"Clusters\"] = yhat_kmeans\n",
    "\n",
    "# Plotting the clusters (same as your existing code)\n",
    "fig = plt.figure(figsize=(10,8))\n",
    "ax = plt.subplot(111, projection='3d')\n",
    "ax.scatter(x, y, z, s=40, c=PCA_ds[\"Clusters\"], marker='o', cmap=cmap)\n",
    "ax.set_title(\"KMeans Clustering Result\")\n",
    "plt.show()"
   ]
  },
  {
   "cell_type": "markdown",
   "id": "c1ff1fae",
   "metadata": {
    "execution": {
     "iopub.execute_input": "2021-09-24T12:48:31.555898Z",
     "iopub.status.busy": "2021-09-24T12:48:31.555573Z",
     "iopub.status.idle": "2021-09-24T12:48:31.559969Z",
     "shell.execute_reply": "2021-09-24T12:48:31.559288Z",
     "shell.execute_reply.started": "2021-09-24T12:48:31.55586Z"
    },
    "papermill": {
     "duration": 0.063192,
     "end_time": "2021-10-08T04:14:59.390530",
     "exception": false,
     "start_time": "2021-10-08T04:14:59.327338",
     "status": "completed"
    },
    "tags": []
   },
   "source": [
    "The above cell indicates that four will be an optimal number of clusters for this data. \n",
    "Next, we will be fitting the Agglomerative Clustering Model to get the final clusters. "
   ]
  },
  {
   "cell_type": "markdown",
   "id": "fb953814",
   "metadata": {
    "papermill": {
     "duration": 0.063434,
     "end_time": "2021-10-08T04:14:59.798310",
     "exception": false,
     "start_time": "2021-10-08T04:14:59.734876",
     "status": "completed"
    },
    "tags": []
   },
   "source": [
    "To examine the clusters formed let's have a look at the 3-D distribution of the clusters. "
   ]
  },
  {
   "cell_type": "code",
   "execution_count": null,
   "id": "6b9189d2",
   "metadata": {
    "papermill": {
     "duration": 0.470936,
     "end_time": "2021-10-08T04:15:00.913213",
     "exception": false,
     "start_time": "2021-10-08T04:15:00.442277",
     "status": "completed"
    },
    "tags": []
   },
   "outputs": [],
   "source": [
    "#Plotting countplot of clusters\n",
    "pal = [\"#682F2F\",\"#B9C0C9\", \"#9F8A78\",\"#F3AB60\"]\n",
    "pl = sns.countplot(x=data[\"Clusters\"], palette= pal)\n",
    "pl.set_title(\"Distribution Of The Clusters\")\n",
    "plt.show()"
   ]
  },
  {
   "cell_type": "markdown",
   "id": "154ce4f8",
   "metadata": {
    "papermill": {
     "duration": 0.067211,
     "end_time": "2021-10-08T04:15:01.051651",
     "exception": false,
     "start_time": "2021-10-08T04:15:00.984440",
     "status": "completed"
    },
    "tags": []
   },
   "source": [
    "\n"
   ]
  },
  {
   "cell_type": "markdown",
   "id": "07f2e0f1",
   "metadata": {
    "papermill": {
     "duration": 0.066727,
     "end_time": "2021-10-08T04:15:01.186736",
     "exception": false,
     "start_time": "2021-10-08T04:15:01.120009",
     "status": "completed"
    },
    "tags": []
   },
   "source": [
    "The clusters seem to be fairly distributed."
   ]
  },
  {
   "cell_type": "code",
   "execution_count": null,
   "id": "559ecb13",
   "metadata": {
    "papermill": {
     "duration": 0.510132,
     "end_time": "2021-10-08T04:15:01.794103",
     "exception": false,
     "start_time": "2021-10-08T04:15:01.283971",
     "status": "completed"
    },
    "tags": []
   },
   "outputs": [],
   "source": [
    "pl = sns.scatterplot(data = data,x=data[\"Spent\"], y=data[\"Income\"],hue=data[\"Clusters\"], palette= pal)\n",
    "pl.set_title(\"Cluster's Profile Based On Income And Spending\")\n",
    "plt.legend()\n",
    "plt.show()"
   ]
  },
  {
   "cell_type": "markdown",
   "id": "c067cea2-9082-4652-bd64-623be6fafc92",
   "metadata": {},
   "source": [
    "## Income vs Spending Plot – Cluster Interpretation\n",
    "\n",
    "- **Group 0** (Dark Maroon): High spending & average income  \n",
    "- **Group 1** (Light Blue): Low spending & low income  \n",
    "- **Group 2** (Brownish Gray): Average income & moderate-to-high spending  \n",
    "- **Group 3** (Orange): Low spending & low-to-mid income\n",
    "\n"
   ]
  },
  {
   "cell_type": "code",
   "execution_count": null,
   "id": "4903aaf3",
   "metadata": {
    "papermill": {
     "duration": 4.684948,
     "end_time": "2021-10-08T04:15:06.695522",
     "exception": false,
     "start_time": "2021-10-08T04:15:02.010574",
     "status": "completed"
    },
    "tags": []
   },
   "outputs": [],
   "source": [
    "plt.figure()\n",
    "pl=sns.swarmplot(x=data[\"Clusters\"], y=data[\"Spent\"], color= \"#CBEDDD\", alpha=0.5 )\n",
    "pl=sns.boxenplot(x=data[\"Clusters\"], y=data[\"Spent\"], palette=pal)\n",
    "plt.show()"
   ]
  },
  {
   "cell_type": "markdown",
   "id": "f35b69f9",
   "metadata": {
    "papermill": {
     "duration": 0.07193,
     "end_time": "2021-10-08T04:15:06.840213",
     "exception": false,
     "start_time": "2021-10-08T04:15:06.768283",
     "status": "completed"
    },
    "tags": []
   },
   "source": [
    "\n",
    "From the above plot, it can be clearly seen that cluster 1 is our biggest set of customers closely followed by cluster 0.\n",
    "We can explore what each cluster is spending on for the targeted marketing strategies.\n"
   ]
  },
  {
   "cell_type": "markdown",
   "id": "80f20861",
   "metadata": {
    "papermill": {
     "duration": 0.074689,
     "end_time": "2021-10-08T04:15:06.988145",
     "exception": false,
     "start_time": "2021-10-08T04:15:06.913456",
     "status": "completed"
    },
    "tags": []
   },
   "source": [
    "Let us next explore how did our campaigns do in the past."
   ]
  },
  {
   "cell_type": "code",
   "execution_count": null,
   "id": "e70811f2",
   "metadata": {
    "papermill": {
     "duration": 0.373835,
     "end_time": "2021-10-08T04:15:07.435114",
     "exception": false,
     "start_time": "2021-10-08T04:15:07.061279",
     "status": "completed"
    },
    "tags": []
   },
   "outputs": [],
   "source": [
    "#Creating a feature to get a sum of accepted promotions \n",
    "data[\"Total_Promos\"] = data[\"AcceptedCmp1\"]+ data[\"AcceptedCmp2\"]+ data[\"AcceptedCmp3\"]+ data[\"AcceptedCmp4\"]+ data[\"AcceptedCmp5\"]\n",
    "#Plotting count of total campaign accepted.\n",
    "plt.figure()\n",
    "pl = sns.countplot(x=data[\"Total_Promos\"],hue=data[\"Clusters\"], palette= pal)\n",
    "pl.set_title(\"Count Of Promotion Accepted\")\n",
    "pl.set_xlabel(\"Number Of Total Accepted Promotions\")\n",
    "plt.show()"
   ]
  },
  {
   "cell_type": "markdown",
   "id": "31a9b95f",
   "metadata": {
    "papermill": {
     "duration": 0.075057,
     "end_time": "2021-10-08T04:15:07.585345",
     "exception": false,
     "start_time": "2021-10-08T04:15:07.510288",
     "status": "completed"
    },
    "tags": []
   },
   "source": [
    "There has not been an overwhelming response to the campaigns so far. Very few participants overall. Moreover, no one part take in all 5 of them. Perhaps better-targeted and well-planned campaigns are required to boost sales. \n"
   ]
  },
  {
   "cell_type": "code",
   "execution_count": null,
   "id": "20b69169",
   "metadata": {
    "papermill": {
     "duration": 0.325298,
     "end_time": "2021-10-08T04:15:07.983731",
     "exception": false,
     "start_time": "2021-10-08T04:15:07.658433",
     "status": "completed"
    },
    "tags": []
   },
   "outputs": [],
   "source": [
    "#Plotting the number of deals purchased\n",
    "plt.figure()\n",
    "pl=sns.boxenplot(y=data[\"NumDealsPurchases\"],x=data[\"Clusters\"], palette= pal)\n",
    "pl.set_title(\"Number of Deals Purchased\")\n",
    "plt.show()"
   ]
  },
  {
   "cell_type": "markdown",
   "id": "cb4d960d",
   "metadata": {
    "papermill": {
     "duration": 0.075506,
     "end_time": "2021-10-08T04:15:08.136009",
     "exception": false,
     "start_time": "2021-10-08T04:15:08.060503",
     "status": "completed"
    },
    "tags": []
   },
   "source": [
    "Unlike campaigns, the deals offered did well. It has best outcome with cluster 0 and cluster 3. \n",
    "However, our star customers cluster 1 are not much into the deals. \n",
    "Nothing seems to attract cluster 2 overwhelmingly \n"
   ]
  },
  {
   "cell_type": "code",
   "execution_count": null,
   "id": "61521155",
   "metadata": {
    "_kg_hide-input": true,
    "_kg_hide-output": true,
    "papermill": {
     "duration": 3.296251,
     "end_time": "2021-10-08T04:15:11.506721",
     "exception": false,
     "start_time": "2021-10-08T04:15:08.210470",
     "status": "completed"
    },
    "tags": []
   },
   "outputs": [],
   "source": [
    "#for more details on the purchasing style \n",
    "Places =[\"NumWebPurchases\", \"NumCatalogPurchases\", \"NumStorePurchases\",  \"NumWebVisitsMonth\"] \n",
    "\n",
    "for i in Places:\n",
    "    plt.figure()\n",
    "    sns.jointplot(x=data[i],y = data[\"Spent\"],hue=data[\"Clusters\"], palette= pal)\n",
    "    plt.show()"
   ]
  },
  {
   "cell_type": "code",
   "execution_count": null,
   "id": "e060efb5-f2fe-42dc-963e-ed58f888738e",
   "metadata": {},
   "outputs": [],
   "source": []
  }
 ],
 "metadata": {
  "kernelspec": {
   "display_name": "Python 3 (ipykernel)",
   "language": "python",
   "name": "python3"
  },
  "language_info": {
   "codemirror_mode": {
    "name": "ipython",
    "version": 3
   },
   "file_extension": ".py",
   "mimetype": "text/x-python",
   "name": "python",
   "nbconvert_exporter": "python",
   "pygments_lexer": "ipython3",
   "version": "3.12.4"
  },
  "papermill": {
   "default_parameters": {},
   "duration": 68.93969,
   "end_time": "2021-10-08T04:15:39.992191",
   "environment_variables": {},
   "exception": null,
   "input_path": "__notebook__.ipynb",
   "output_path": "__notebook__.ipynb",
   "parameters": {},
   "start_time": "2021-10-08T04:14:31.052501",
   "version": "2.3.3"
  }
 },
 "nbformat": 4,
 "nbformat_minor": 5
}
